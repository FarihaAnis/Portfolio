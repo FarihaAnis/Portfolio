{
 "cells": [
  {
   "cell_type": "markdown",
   "id": "ffeacc1b",
   "metadata": {},
   "source": [
    "## Import Libraries"
   ]
  },
  {
   "cell_type": "code",
   "execution_count": 1,
   "id": "35e56078",
   "metadata": {},
   "outputs": [],
   "source": [
    "import pandas as pd\n",
    "import numpy as np\n",
    "import warnings\n",
    "import seaborn as sns\n",
    "import matplotlib.pyplot as plt\n",
    "from sklearn.preprocessing import OrdinalEncoder\n",
    "from imblearn.over_sampling import SMOTE\n",
    "from sklearn.model_selection import train_test_split\n",
    "from sklearn.tree import DecisionTreeClassifier\n",
    "from sklearn.neighbors import KNeighborsClassifier\n",
    "from sklearn.naive_bayes import GaussianNB\n",
    "from sklearn.metrics import accuracy_score, precision_score, recall_score, f1_score\n",
    "from sklearn.model_selection import GridSearchCV\n",
    "\n",
    "pd.set_option('display.max_columns', None)\n",
    "\n",
    "# Suppress warnings\n",
    "warnings.filterwarnings(\"ignore\")"
   ]
  },
  {
   "cell_type": "markdown",
   "id": "7bf1b774",
   "metadata": {},
   "source": [
    "## Import Dataset"
   ]
  },
  {
   "cell_type": "code",
   "execution_count": 2,
   "id": "3025f77f",
   "metadata": {},
   "outputs": [
    {
     "data": {
      "text/plain": [
       "Age Group  \n",
       "Youth          9198\n",
       "Prime          6055\n",
       "Experienced    3726\n",
       "dtype: int64"
      ]
     },
     "execution_count": 2,
     "metadata": {},
     "output_type": "execute_result"
    }
   ],
   "source": [
    "df = pd.read_csv('df_cleaned.csv')\n",
    "df[['Age Group']].value_counts()"
   ]
  },
  {
   "cell_type": "markdown",
   "id": "cab74476",
   "metadata": {},
   "source": [
    "## Initial Data Preprocessing"
   ]
  },
  {
   "cell_type": "markdown",
   "id": "ece08ff4",
   "metadata": {},
   "source": [
    "### Data Discretization and Binning"
   ]
  },
  {
   "cell_type": "markdown",
   "id": "5a1f6309",
   "metadata": {},
   "source": [
    "* **Objective**: The goal of this step is to categorize OVA values into meaningful bins with labels to simplify subsequent analysis.\n",
    "\n",
    "* **Method**: Custom bins and labels are defined as follows: [0, 60, 70, 100] with labels 'Low,' 'Medium,' and 'High,' respectively.\n",
    "\n",
    "* **Insight**: This discretization transforms continuous OVA values into three distinct categories, providing a foundation for classification tasks. It simplifies the prediction task by converting OVA into ordinal classes."
   ]
  },
  {
   "cell_type": "code",
   "execution_count": 3,
   "id": "a1404688",
   "metadata": {},
   "outputs": [
    {
     "data": {
      "text/html": [
       "<div>\n",
       "<style scoped>\n",
       "    .dataframe tbody tr th:only-of-type {\n",
       "        vertical-align: middle;\n",
       "    }\n",
       "\n",
       "    .dataframe tbody tr th {\n",
       "        vertical-align: top;\n",
       "    }\n",
       "\n",
       "    .dataframe thead th {\n",
       "        text-align: right;\n",
       "    }\n",
       "</style>\n",
       "<table border=\"1\" class=\"dataframe\">\n",
       "  <thead>\n",
       "    <tr style=\"text-align: right;\">\n",
       "      <th></th>\n",
       "      <th>Nationality</th>\n",
       "      <th>Age Group</th>\n",
       "      <th>OVA</th>\n",
       "      <th>Potential Rating</th>\n",
       "      <th>Club</th>\n",
       "      <th>Contract Duration (Years)</th>\n",
       "      <th>Positions</th>\n",
       "      <th>Height</th>\n",
       "      <th>Weight</th>\n",
       "      <th>Preferred Foot</th>\n",
       "      <th>Sprint Speed</th>\n",
       "      <th>Reactions</th>\n",
       "      <th>Jumping</th>\n",
       "      <th>Stamina</th>\n",
       "      <th>Strength</th>\n",
       "      <th>Aggression</th>\n",
       "      <th>Vision</th>\n",
       "      <th>Composure</th>\n",
       "      <th>Skill Moves Rating</th>\n",
       "      <th>Attacking Work Rate</th>\n",
       "      <th>Defensive Work Rate</th>\n",
       "      <th>Pace</th>\n",
       "      <th>Shooting</th>\n",
       "      <th>Passing</th>\n",
       "      <th>Dribbling</th>\n",
       "      <th>Defending</th>\n",
       "      <th>Market Value</th>\n",
       "    </tr>\n",
       "  </thead>\n",
       "  <tbody>\n",
       "    <tr>\n",
       "      <th>0</th>\n",
       "      <td>Argentina</td>\n",
       "      <td>Experienced</td>\n",
       "      <td>High</td>\n",
       "      <td>93</td>\n",
       "      <td>FC Barcelona</td>\n",
       "      <td>9.5</td>\n",
       "      <td>RW, ST, CF</td>\n",
       "      <td>170.0</td>\n",
       "      <td>72.0</td>\n",
       "      <td>0</td>\n",
       "      <td>80</td>\n",
       "      <td>94</td>\n",
       "      <td>68</td>\n",
       "      <td>72</td>\n",
       "      <td>69</td>\n",
       "      <td>44</td>\n",
       "      <td>95</td>\n",
       "      <td>96</td>\n",
       "      <td>4</td>\n",
       "      <td>Medium</td>\n",
       "      <td>Low</td>\n",
       "      <td>85</td>\n",
       "      <td>92</td>\n",
       "      <td>91</td>\n",
       "      <td>95</td>\n",
       "      <td>38</td>\n",
       "      <td>103500000.0</td>\n",
       "    </tr>\n",
       "    <tr>\n",
       "      <th>1</th>\n",
       "      <td>Portugal</td>\n",
       "      <td>Experienced</td>\n",
       "      <td>High</td>\n",
       "      <td>92</td>\n",
       "      <td>Juventus</td>\n",
       "      <td>4.0</td>\n",
       "      <td>ST, LW</td>\n",
       "      <td>187.0</td>\n",
       "      <td>83.0</td>\n",
       "      <td>1</td>\n",
       "      <td>91</td>\n",
       "      <td>95</td>\n",
       "      <td>95</td>\n",
       "      <td>84</td>\n",
       "      <td>78</td>\n",
       "      <td>63</td>\n",
       "      <td>82</td>\n",
       "      <td>95</td>\n",
       "      <td>5</td>\n",
       "      <td>High</td>\n",
       "      <td>Low</td>\n",
       "      <td>89</td>\n",
       "      <td>93</td>\n",
       "      <td>81</td>\n",
       "      <td>89</td>\n",
       "      <td>35</td>\n",
       "      <td>63000000.0</td>\n",
       "    </tr>\n",
       "    <tr>\n",
       "      <th>2</th>\n",
       "      <td>Slovenia</td>\n",
       "      <td>Prime</td>\n",
       "      <td>High</td>\n",
       "      <td>93</td>\n",
       "      <td>Atlético Madrid</td>\n",
       "      <td>9.0</td>\n",
       "      <td>GK</td>\n",
       "      <td>188.0</td>\n",
       "      <td>87.0</td>\n",
       "      <td>1</td>\n",
       "      <td>60</td>\n",
       "      <td>88</td>\n",
       "      <td>78</td>\n",
       "      <td>41</td>\n",
       "      <td>78</td>\n",
       "      <td>34</td>\n",
       "      <td>65</td>\n",
       "      <td>68</td>\n",
       "      <td>1</td>\n",
       "      <td>Medium</td>\n",
       "      <td>Medium</td>\n",
       "      <td>87</td>\n",
       "      <td>92</td>\n",
       "      <td>78</td>\n",
       "      <td>90</td>\n",
       "      <td>52</td>\n",
       "      <td>120000000.0</td>\n",
       "    </tr>\n",
       "    <tr>\n",
       "      <th>3</th>\n",
       "      <td>Belgium</td>\n",
       "      <td>Prime</td>\n",
       "      <td>High</td>\n",
       "      <td>91</td>\n",
       "      <td>Manchester City</td>\n",
       "      <td>8.0</td>\n",
       "      <td>CAM, CM</td>\n",
       "      <td>181.0</td>\n",
       "      <td>70.0</td>\n",
       "      <td>1</td>\n",
       "      <td>76</td>\n",
       "      <td>91</td>\n",
       "      <td>63</td>\n",
       "      <td>89</td>\n",
       "      <td>74</td>\n",
       "      <td>76</td>\n",
       "      <td>94</td>\n",
       "      <td>91</td>\n",
       "      <td>4</td>\n",
       "      <td>High</td>\n",
       "      <td>High</td>\n",
       "      <td>76</td>\n",
       "      <td>86</td>\n",
       "      <td>93</td>\n",
       "      <td>88</td>\n",
       "      <td>64</td>\n",
       "      <td>129000000.0</td>\n",
       "    </tr>\n",
       "    <tr>\n",
       "      <th>4</th>\n",
       "      <td>Brazil</td>\n",
       "      <td>Prime</td>\n",
       "      <td>High</td>\n",
       "      <td>91</td>\n",
       "      <td>Paris Saint-Germain</td>\n",
       "      <td>5.0</td>\n",
       "      <td>LW, CAM</td>\n",
       "      <td>175.0</td>\n",
       "      <td>68.0</td>\n",
       "      <td>1</td>\n",
       "      <td>89</td>\n",
       "      <td>91</td>\n",
       "      <td>62</td>\n",
       "      <td>81</td>\n",
       "      <td>50</td>\n",
       "      <td>51</td>\n",
       "      <td>90</td>\n",
       "      <td>93</td>\n",
       "      <td>5</td>\n",
       "      <td>High</td>\n",
       "      <td>Medium</td>\n",
       "      <td>91</td>\n",
       "      <td>85</td>\n",
       "      <td>86</td>\n",
       "      <td>94</td>\n",
       "      <td>36</td>\n",
       "      <td>132000000.0</td>\n",
       "    </tr>\n",
       "    <tr>\n",
       "      <th>...</th>\n",
       "      <td>...</td>\n",
       "      <td>...</td>\n",
       "      <td>...</td>\n",
       "      <td>...</td>\n",
       "      <td>...</td>\n",
       "      <td>...</td>\n",
       "      <td>...</td>\n",
       "      <td>...</td>\n",
       "      <td>...</td>\n",
       "      <td>...</td>\n",
       "      <td>...</td>\n",
       "      <td>...</td>\n",
       "      <td>...</td>\n",
       "      <td>...</td>\n",
       "      <td>...</td>\n",
       "      <td>...</td>\n",
       "      <td>...</td>\n",
       "      <td>...</td>\n",
       "      <td>...</td>\n",
       "      <td>...</td>\n",
       "      <td>...</td>\n",
       "      <td>...</td>\n",
       "      <td>...</td>\n",
       "      <td>...</td>\n",
       "      <td>...</td>\n",
       "      <td>...</td>\n",
       "      <td>...</td>\n",
       "    </tr>\n",
       "    <tr>\n",
       "      <th>18974</th>\n",
       "      <td>China PR</td>\n",
       "      <td>Youth</td>\n",
       "      <td>Low</td>\n",
       "      <td>55</td>\n",
       "      <td>Wuhan Zall</td>\n",
       "      <td>4.0</td>\n",
       "      <td>CB</td>\n",
       "      <td>178.0</td>\n",
       "      <td>66.0</td>\n",
       "      <td>1</td>\n",
       "      <td>60</td>\n",
       "      <td>46</td>\n",
       "      <td>57</td>\n",
       "      <td>54</td>\n",
       "      <td>50</td>\n",
       "      <td>48</td>\n",
       "      <td>28</td>\n",
       "      <td>44</td>\n",
       "      <td>2</td>\n",
       "      <td>Medium</td>\n",
       "      <td>Medium</td>\n",
       "      <td>64</td>\n",
       "      <td>28</td>\n",
       "      <td>26</td>\n",
       "      <td>38</td>\n",
       "      <td>48</td>\n",
       "      <td>100000.0</td>\n",
       "    </tr>\n",
       "    <tr>\n",
       "      <th>18975</th>\n",
       "      <td>England</td>\n",
       "      <td>Youth</td>\n",
       "      <td>Low</td>\n",
       "      <td>67</td>\n",
       "      <td>Oldham Athletic</td>\n",
       "      <td>1.0</td>\n",
       "      <td>CM</td>\n",
       "      <td>175.0</td>\n",
       "      <td>65.0</td>\n",
       "      <td>1</td>\n",
       "      <td>64</td>\n",
       "      <td>51</td>\n",
       "      <td>58</td>\n",
       "      <td>43</td>\n",
       "      <td>47</td>\n",
       "      <td>40</td>\n",
       "      <td>47</td>\n",
       "      <td>38</td>\n",
       "      <td>2</td>\n",
       "      <td>Medium</td>\n",
       "      <td>Medium</td>\n",
       "      <td>64</td>\n",
       "      <td>40</td>\n",
       "      <td>48</td>\n",
       "      <td>49</td>\n",
       "      <td>35</td>\n",
       "      <td>130000.0</td>\n",
       "    </tr>\n",
       "    <tr>\n",
       "      <th>18976</th>\n",
       "      <td>England</td>\n",
       "      <td>Youth</td>\n",
       "      <td>Low</td>\n",
       "      <td>65</td>\n",
       "      <td>Derry City</td>\n",
       "      <td>1.0</td>\n",
       "      <td>CM</td>\n",
       "      <td>179.0</td>\n",
       "      <td>74.0</td>\n",
       "      <td>1</td>\n",
       "      <td>66</td>\n",
       "      <td>47</td>\n",
       "      <td>52</td>\n",
       "      <td>50</td>\n",
       "      <td>54</td>\n",
       "      <td>56</td>\n",
       "      <td>43</td>\n",
       "      <td>43</td>\n",
       "      <td>2</td>\n",
       "      <td>Medium</td>\n",
       "      <td>Medium</td>\n",
       "      <td>63</td>\n",
       "      <td>39</td>\n",
       "      <td>44</td>\n",
       "      <td>46</td>\n",
       "      <td>40</td>\n",
       "      <td>120000.0</td>\n",
       "    </tr>\n",
       "    <tr>\n",
       "      <th>18977</th>\n",
       "      <td>China PR</td>\n",
       "      <td>Youth</td>\n",
       "      <td>Low</td>\n",
       "      <td>57</td>\n",
       "      <td>Dalian YiFang FC</td>\n",
       "      <td>2.0</td>\n",
       "      <td>RW</td>\n",
       "      <td>175.0</td>\n",
       "      <td>69.0</td>\n",
       "      <td>1</td>\n",
       "      <td>55</td>\n",
       "      <td>33</td>\n",
       "      <td>45</td>\n",
       "      <td>46</td>\n",
       "      <td>48</td>\n",
       "      <td>31</td>\n",
       "      <td>46</td>\n",
       "      <td>45</td>\n",
       "      <td>2</td>\n",
       "      <td>Medium</td>\n",
       "      <td>Medium</td>\n",
       "      <td>58</td>\n",
       "      <td>49</td>\n",
       "      <td>41</td>\n",
       "      <td>49</td>\n",
       "      <td>30</td>\n",
       "      <td>100000.0</td>\n",
       "    </tr>\n",
       "    <tr>\n",
       "      <th>18978</th>\n",
       "      <td>China PR</td>\n",
       "      <td>Youth</td>\n",
       "      <td>Low</td>\n",
       "      <td>57</td>\n",
       "      <td>Dalian YiFang FC</td>\n",
       "      <td>4.0</td>\n",
       "      <td>CB, LB</td>\n",
       "      <td>188.0</td>\n",
       "      <td>75.0</td>\n",
       "      <td>0</td>\n",
       "      <td>63</td>\n",
       "      <td>47</td>\n",
       "      <td>66</td>\n",
       "      <td>60</td>\n",
       "      <td>55</td>\n",
       "      <td>45</td>\n",
       "      <td>33</td>\n",
       "      <td>33</td>\n",
       "      <td>2</td>\n",
       "      <td>Medium</td>\n",
       "      <td>Medium</td>\n",
       "      <td>62</td>\n",
       "      <td>22</td>\n",
       "      <td>39</td>\n",
       "      <td>42</td>\n",
       "      <td>45</td>\n",
       "      <td>100000.0</td>\n",
       "    </tr>\n",
       "  </tbody>\n",
       "</table>\n",
       "<p>18979 rows × 27 columns</p>\n",
       "</div>"
      ],
      "text/plain": [
       "      Nationality    Age Group   OVA  Potential Rating                 Club  \\\n",
       "0       Argentina  Experienced  High                93         FC Barcelona   \n",
       "1        Portugal  Experienced  High                92             Juventus   \n",
       "2        Slovenia        Prime  High                93      Atlético Madrid   \n",
       "3         Belgium        Prime  High                91      Manchester City   \n",
       "4          Brazil        Prime  High                91  Paris Saint-Germain   \n",
       "...           ...          ...   ...               ...                  ...   \n",
       "18974    China PR        Youth   Low                55           Wuhan Zall   \n",
       "18975     England        Youth   Low                67      Oldham Athletic   \n",
       "18976     England        Youth   Low                65           Derry City   \n",
       "18977    China PR        Youth   Low                57     Dalian YiFang FC   \n",
       "18978    China PR        Youth   Low                57     Dalian YiFang FC   \n",
       "\n",
       "       Contract Duration (Years)   Positions  Height  Weight  Preferred Foot  \\\n",
       "0                            9.5  RW, ST, CF   170.0    72.0               0   \n",
       "1                            4.0      ST, LW   187.0    83.0               1   \n",
       "2                            9.0          GK   188.0    87.0               1   \n",
       "3                            8.0     CAM, CM   181.0    70.0               1   \n",
       "4                            5.0     LW, CAM   175.0    68.0               1   \n",
       "...                          ...         ...     ...     ...             ...   \n",
       "18974                        4.0          CB   178.0    66.0               1   \n",
       "18975                        1.0          CM   175.0    65.0               1   \n",
       "18976                        1.0          CM   179.0    74.0               1   \n",
       "18977                        2.0          RW   175.0    69.0               1   \n",
       "18978                        4.0      CB, LB   188.0    75.0               0   \n",
       "\n",
       "       Sprint Speed  Reactions  Jumping  Stamina  Strength  Aggression  \\\n",
       "0                80         94       68       72        69          44   \n",
       "1                91         95       95       84        78          63   \n",
       "2                60         88       78       41        78          34   \n",
       "3                76         91       63       89        74          76   \n",
       "4                89         91       62       81        50          51   \n",
       "...             ...        ...      ...      ...       ...         ...   \n",
       "18974            60         46       57       54        50          48   \n",
       "18975            64         51       58       43        47          40   \n",
       "18976            66         47       52       50        54          56   \n",
       "18977            55         33       45       46        48          31   \n",
       "18978            63         47       66       60        55          45   \n",
       "\n",
       "       Vision  Composure  Skill Moves Rating Attacking Work Rate  \\\n",
       "0          95         96                   4              Medium   \n",
       "1          82         95                   5                High   \n",
       "2          65         68                   1              Medium   \n",
       "3          94         91                   4                High   \n",
       "4          90         93                   5                High   \n",
       "...       ...        ...                 ...                 ...   \n",
       "18974      28         44                   2              Medium   \n",
       "18975      47         38                   2              Medium   \n",
       "18976      43         43                   2              Medium   \n",
       "18977      46         45                   2              Medium   \n",
       "18978      33         33                   2              Medium   \n",
       "\n",
       "      Defensive Work Rate  Pace  Shooting  Passing  Dribbling  Defending  \\\n",
       "0                     Low    85        92       91         95         38   \n",
       "1                     Low    89        93       81         89         35   \n",
       "2                  Medium    87        92       78         90         52   \n",
       "3                    High    76        86       93         88         64   \n",
       "4                  Medium    91        85       86         94         36   \n",
       "...                   ...   ...       ...      ...        ...        ...   \n",
       "18974              Medium    64        28       26         38         48   \n",
       "18975              Medium    64        40       48         49         35   \n",
       "18976              Medium    63        39       44         46         40   \n",
       "18977              Medium    58        49       41         49         30   \n",
       "18978              Medium    62        22       39         42         45   \n",
       "\n",
       "       Market Value  \n",
       "0       103500000.0  \n",
       "1        63000000.0  \n",
       "2       120000000.0  \n",
       "3       129000000.0  \n",
       "4       132000000.0  \n",
       "...             ...  \n",
       "18974      100000.0  \n",
       "18975      130000.0  \n",
       "18976      120000.0  \n",
       "18977      100000.0  \n",
       "18978      100000.0  \n",
       "\n",
       "[18979 rows x 27 columns]"
      ]
     },
     "execution_count": 3,
     "metadata": {},
     "output_type": "execute_result"
    }
   ],
   "source": [
    "# Define custom bins and labels for categories\n",
    "bins = [0, 60, 70, 100] \n",
    "labels = ['Low', 'Medium', 'High']\n",
    "\n",
    "# Use pd.cut to categorize the OVA values\n",
    "df['OVA'] = pd.cut(df['OVA'], bins=bins, labels=labels)\n",
    "df"
   ]
  },
  {
   "cell_type": "code",
   "execution_count": 4,
   "id": "a2327ea5",
   "metadata": {},
   "outputs": [
    {
     "data": {
      "text/plain": [
       "Age Group    OVA     Attacking Work Rate  Defensive Work Rate\n",
       "Youth        Medium  Medium               Medium                 2517\n",
       "             Low     Medium               Medium                 2471\n",
       "Prime        Medium  Medium               Medium                 1810\n",
       "Experienced  Medium  Medium               Medium                 1072\n",
       "Youth        Medium  High                 Medium                  861\n",
       "                                                                 ... \n",
       "Prime        Low     Low                  Low                       4\n",
       "Experienced  Low     Low                  Low                       4\n",
       "Prime        High    Low                  Low                       3\n",
       "Experienced  High    Low                  Low                       2\n",
       "Youth        High    Low                  Low                       1\n",
       "Length: 81, dtype: int64"
      ]
     },
     "execution_count": 4,
     "metadata": {},
     "output_type": "execute_result"
    }
   ],
   "source": [
    "df[['Age Group', 'OVA', 'Attacking Work Rate', 'Defensive Work Rate']].value_counts()"
   ]
  },
  {
   "cell_type": "markdown",
   "id": "c339aae3",
   "metadata": {},
   "source": [
    "### Data Encoding"
   ]
  },
  {
   "cell_type": "markdown",
   "id": "40c6770f",
   "metadata": {},
   "source": [
    "* **Objective**: Encode categorical features into numerical values for machine learning algorithms, preserving the order of some categories.\n",
    "\n",
    "* **Method**: \n",
    ">* **Ordinal encoding** is applied to 'Age Group' and 'OVA,' where custom orderings ('Youth' < 'Prime' < 'Experienced' and 'Low' < 'Medium' < 'High') are defined to reflect the natural order of these categories.\n",
    ">* **Label encoding** is used for other categorical features like 'Nationality,' 'Club,' and 'Positions,' where no specific order exists.\n",
    "\n",
    "* **Insight**: Encoding categorical variables ensures that all features are represented numerically, making them suitable for machine learning algorithms. Maintaining the order for 'Age Group' and 'OVA' is crucial, as it reflects the natural progression of player age and OVA ratings."
   ]
  },
  {
   "cell_type": "code",
   "execution_count": 5,
   "id": "f79d1036",
   "metadata": {},
   "outputs": [],
   "source": [
    "# Define the order of categories for each feature\n",
    "age_group_order = ['Youth', 'Prime', 'Experienced']\n",
    "ova_order = ['Low', 'Medium', 'High']\n",
    "attacking_wr_order = ['Low', 'Medium', 'High']\n",
    "defensive_wr_order = ['Low', 'Medium', 'High']\n",
    "\n",
    "# Initialize the encoder\n",
    "ordinal_encoder = OrdinalEncoder(categories=[age_group_order, ova_order, attacking_wr_order, defensive_wr_order])\n",
    "\n",
    "# Fit the encoder to the DataFrame\n",
    "df[['Age Group', 'OVA', 'Attacking Work Rate', 'Defensive Work Rate']] = ordinal_encoder.fit_transform(df[['Age Group', 'OVA', 'Attacking Work Rate', 'Defensive Work Rate']])\n",
    "\n",
    "from sklearn.preprocessing import LabelEncoder\n",
    "categorical_features = ['Nationality', 'Club', 'Positions']\n",
    "for feature in categorical_features:\n",
    "    label_encoder = LabelEncoder()\n",
    "    df[feature] = label_encoder.fit_transform(df[feature])"
   ]
  },
  {
   "cell_type": "markdown",
   "id": "9ab814e8",
   "metadata": {},
   "source": [
    "### Check Correlations"
   ]
  },
  {
   "cell_type": "markdown",
   "id": "bfc3c05f",
   "metadata": {},
   "source": [
    "* **Objective**: Evaluate the strength and direction of correlations between features and the target variable (OVA).\n",
    "\n",
    "* **Method**: Correlation coefficients are computed to measure the linear relationship between each feature and OVA.\n",
    "\n",
    "* **Insight**: Understanding feature correlations helps identify which features may be more relevant for predicting OVA."
   ]
  },
  {
   "cell_type": "code",
   "execution_count": 6,
   "id": "26d05537",
   "metadata": {},
   "outputs": [
    {
     "data": {
      "text/plain": [
       "OVA                          1.000000\n",
       "Reactions                    0.782784\n",
       "Composure                    0.638950\n",
       "Passing                      0.629458\n",
       "Dribbling                    0.584125\n",
       "Potential Rating             0.548567\n",
       "Vision                       0.457875\n",
       "Shooting                     0.424477\n",
       "Market Value                 0.396824\n",
       "Aggression                   0.375911\n",
       "Age Group                    0.371013\n",
       "Skill Moves Rating           0.349250\n",
       "Stamina                      0.348283\n",
       "Defending                    0.337413\n",
       "Strength                     0.329065\n",
       "Jumping                      0.260716\n",
       "Pace                         0.233612\n",
       "Sprint Speed                 0.189913\n",
       "Contract Duration (Years)    0.181076\n",
       "Attacking Work Rate          0.165104\n",
       "Weight                       0.138943\n",
       "Defensive Work Rate          0.104855\n",
       "Height                       0.030861\n",
       "Club                         0.014456\n",
       "Positions                    0.006599\n",
       "Nationality                 -0.045133\n",
       "Preferred Foot              -0.045188\n",
       "Name: OVA, dtype: float64"
      ]
     },
     "execution_count": 6,
     "metadata": {},
     "output_type": "execute_result"
    }
   ],
   "source": [
    "correlations = df.corr()['OVA'].sort_values(ascending=False)\n",
    "correlations"
   ]
  },
  {
   "cell_type": "markdown",
   "id": "a05a959b",
   "metadata": {},
   "source": [
    "The analysis of the FIFA 21 dataset reveals that certain player attributes positively correlate with Overall Ratings (OVA), indicating that enhancements in these attributes tend to correspond with higher overall ratings. The attributes that hold the strongest positive influence include 'Reactions', 'Composure', 'Passing' and 'Dribbling'. This implies that players who exhibit quicker reactions, maintain composure under pressure, and possess proficient passing and dribbling skills are likely to have higher overall ratings.\n",
    "\n",
    "In the development of a predictive model, the focus is on attributes with positive correlations. Attributes displaying negative correlations, such as 'Nationality' and 'Preferred Foot', are omitted from the model as they do not positively influence the overall rating based on the analysis conducted. This strategy is directed towards improving the predictive accuracy of the model by emphasizing the most significant attributes that positively affect ratings."
   ]
  },
  {
   "cell_type": "markdown",
   "id": "bfb4c14e",
   "metadata": {},
   "source": [
    "### Check Class Imbalance"
   ]
  },
  {
   "cell_type": "markdown",
   "id": "be12a561",
   "metadata": {},
   "source": [
    "* **Objective**: Examine the distribution of players across OVA categories to identify class imbalance.\n",
    "\n",
    "* **Method**: A bar plot is created to visualize the count of players in each OVA category ('Low,' 'Medium,' 'High').\n",
    "\n",
    "* **Insight**: Class imbalance can impact model performance. In this case, the bar plot shows the distribution of players across different OVA categories, highlighting whether there is a need to address class imbalance using techniques like oversampling, undersampling or SMOTE."
   ]
  },
  {
   "cell_type": "code",
   "execution_count": 7,
   "id": "4221f854",
   "metadata": {},
   "outputs": [
    {
     "data": {
      "image/png": "[encoded data removed]",
      "text/plain": [
       "<Figure size 800x600 with 1 Axes>"
      ]
     },
     "metadata": {},
     "output_type": "display_data"
    }
   ],
   "source": [
    "# Calculate the count of players in each age group\n",
    "ova_group = df['OVA'].value_counts()\n",
    "\n",
    "# Create a bar plot using seaborn\n",
    "plt.figure(figsize=(8, 6))\n",
    "sns.barplot(x=ova_group.index, y=ova_group.values, palette=\"rocket\")\n",
    "plt.title('Distribution of OVA for Each Player')\n",
    "plt.xlabel('OVA')\n",
    "plt.ylabel('Count')\n",
    "plt.xticks()  \n",
    "plt.tight_layout();"
   ]
  },
  {
   "cell_type": "code",
   "execution_count": 8,
   "id": "358aff5e",
   "metadata": {},
   "outputs": [
    {
     "data": {
      "text/plain": [
       "1.0    10264\n",
       "2.0     4536\n",
       "0.0     4179\n",
       "Name: OVA, dtype: int64"
      ]
     },
     "execution_count": 8,
     "metadata": {},
     "output_type": "execute_result"
    }
   ],
   "source": [
    "ova_group"
   ]
  },
  {
   "cell_type": "markdown",
   "id": "e20062bf",
   "metadata": {},
   "source": [
    "The bar chart shows the distribution of FIFA 21 players' Overall Ratings (OVA) across three categories: Low(0), Medium(1), and High(2). The Medium category contains a majority of players, significantly exceeding the number in both the Low and High categories. This disparity suggests that a predictive model might be inclined to favor the Medium category when making predictions due to its larger sample size. Consequently, the model could struggle to accurately identify players who should be classified as Low or High OVA, as it has less data for these groups. To enhance the model's predictive capabilities across all categories, it is recommended to implement balancing methods, ensuring a more equitable distribution of data for the model to learn from."
   ]
  },
  {
   "cell_type": "markdown",
   "id": "13aa4352",
   "metadata": {},
   "source": [
    "### Data Splitting and Balancing"
   ]
  },
  {
   "cell_type": "markdown",
   "id": "15e8e3c0",
   "metadata": {},
   "source": [
    "* **Objective**: Prepare the data for training and testing machine learning models, addressing class imbalance if necessary.\n",
    "* **Method**:\n",
    ">* The dataset is split into training and testing sets using the train_test_split function without initial balancing.\n",
    ">* SMOTE (Synthetic Minority Over-sampling Technique) is applied to the training data to create synthetic samples for minority classes, balancing the class distribution.\n",
    "* **Insight**: Splitting the data into training and testing sets is essential for model evaluation. Applying SMOTE ensures that the model is trained on a balanced dataset, reducing the risk of bias towards the majority class in classification tasks."
   ]
  },
  {
   "cell_type": "code",
   "execution_count": 9,
   "id": "f19830cb",
   "metadata": {},
   "outputs": [],
   "source": [
    "X = df.drop(columns=['OVA', 'Nationality', 'Preferred Foot'])\n",
    "y = df['OVA']\n",
    "\n",
    "# Split the data into training and testing sets \n",
    "X_train, X_test, y_train, y_test = train_test_split(X, y, test_size=0.3, random_state=42)\n",
    "\n",
    "# Apply SMOTE to the training data\n",
    "smote = SMOTE(random_state=42)\n",
    "X_train_resampled, y_train_resampled = smote.fit_resample(X_train, y_train)"
   ]
  },
  {
   "cell_type": "code",
   "execution_count": 10,
   "id": "b703ec96",
   "metadata": {},
   "outputs": [
    {
     "data": {
      "text/html": [
       "<div>\n",
       "<style scoped>\n",
       "    .dataframe tbody tr th:only-of-type {\n",
       "        vertical-align: middle;\n",
       "    }\n",
       "\n",
       "    .dataframe tbody tr th {\n",
       "        vertical-align: top;\n",
       "    }\n",
       "\n",
       "    .dataframe thead th {\n",
       "        text-align: right;\n",
       "    }\n",
       "</style>\n",
       "<table border=\"1\" class=\"dataframe\">\n",
       "  <thead>\n",
       "    <tr style=\"text-align: right;\">\n",
       "      <th></th>\n",
       "      <th>OVA</th>\n",
       "      <th>Count</th>\n",
       "    </tr>\n",
       "  </thead>\n",
       "  <tbody>\n",
       "    <tr>\n",
       "      <th>0</th>\n",
       "      <td>2.0</td>\n",
       "      <td>7134</td>\n",
       "    </tr>\n",
       "    <tr>\n",
       "      <th>1</th>\n",
       "      <td>1.0</td>\n",
       "      <td>7134</td>\n",
       "    </tr>\n",
       "    <tr>\n",
       "      <th>2</th>\n",
       "      <td>0.0</td>\n",
       "      <td>7134</td>\n",
       "    </tr>\n",
       "  </tbody>\n",
       "</table>\n",
       "</div>"
      ],
      "text/plain": [
       "   OVA  Count\n",
       "0  2.0   7134\n",
       "1  1.0   7134\n",
       "2  0.0   7134"
      ]
     },
     "execution_count": 10,
     "metadata": {},
     "output_type": "execute_result"
    }
   ],
   "source": [
    "resampled_df = pd.DataFrame(y_train_resampled.value_counts())\n",
    "resampled_df = resampled_df.reset_index().rename(columns={'index': 'OVA', 'OVA':'Count'})\n",
    "resampled_df"
   ]
  },
  {
   "cell_type": "code",
   "execution_count": 11,
   "id": "964528d9",
   "metadata": {},
   "outputs": [
    {
     "data": {
      "image/png": "[encoded data removed]",
      "text/plain": [
       "<Figure size 800x600 with 1 Axes>"
      ]
     },
     "metadata": {},
     "output_type": "display_data"
    }
   ],
   "source": [
    "# Create a bar plot using seaborn to visualize class distribution after SMOTE\n",
    "plt.figure(figsize=(8, 6))\n",
    "sns.barplot(data=resampled_df, x='OVA', y='Count', palette=\"rocket\")\n",
    "plt.title('Distribution of OVA for Each Player after SMOTE')\n",
    "plt.xlabel('OVA')\n",
    "plt.ylabel('Count')\n",
    "plt.xticks()  \n",
    "plt.tight_layout();"
   ]
  },
  {
   "cell_type": "markdown",
   "id": "0e368aba",
   "metadata": {},
   "source": [
    "The bar chart reflects a balanced distribution of player ratings in FIFA 21 after applying the SMOTE, evening out the number of players across Low(0), Medium(1), and High(2) OVA categories. Balancing the data is crucial for training a predictive model to reduce bias and ensure accurate predictions across all rating levels. However, this balancing act, while beneficial for model performance, can introduce synthetic data points that may not perfectly represent real-world scenarios, potentially leading to overfitting where the model may not perform as well on unseen data. Despite this, the balancing process is vital to ensure the model is well-rounded and reflective of the diverse player abilities."
   ]
  },
  {
   "cell_type": "markdown",
   "id": "a1e46fc0",
   "metadata": {},
   "source": [
    "## K-Fold Values Tuning for Cross-Validation"
   ]
  },
  {
   "cell_type": "markdown",
   "id": "1da0d3aa",
   "metadata": {},
   "source": [
    "Before proceeding with the model training, it was essential to determine the optimal value of the K-fold parameter for cross-validation. Cross-validation is a crucial step in assessing a model's performance by splitting the training data into multiple subsets or \"folds\" to validate the model's robustness.\n",
    "\n",
    "To find the best K-fold value, a range of K-fold values, including 3, 5, 7, and 10, was considered. These values represent the number of subsets into which the training data would be divided during cross-validation.\n",
    "\n",
    "For each K-fold value, the following steps were performed:\n",
    "\n",
    ">* **Create KNN Classifier**: A K-Nearest Neighbors (KNN) classifier, using the best 'n_neighbors' value obtained from previous tuning, was initialized. This classifier is crucial for the subsequent model training and evaluation.\n",
    "\n",
    ">* **Cross-Validation**: Cross-validation was executed with the first K-fold value. The training data, which was previously resampled, was divided into K subsets. The KNN classifier was then trained and validated K times, each time using a different subset as the validation set and the remaining as the training set. The accuracy scores for each fold were recorded.\n",
    "\n",
    ">* **Calculate Mean Accuracy**: After completing cross-validation for the current K-fold value, the mean accuracy score across all folds was calculated. This mean accuracy score reflects the overall performance of the model when different subsets of the training data were used for validation.\n",
    "\n",
    ">* **Repeat for All K-Fold Values**: The above steps were repeated for each K-fold value in the predefined range.\n",
    "\n",
    ">* **Select the Best K-Fold**: The K-fold value that resulted in the highest mean accuracy score was identified as the best K-fold value for cross-validation."
   ]
  },
  {
   "cell_type": "code",
   "execution_count": 12,
   "id": "4f3eaa96",
   "metadata": {},
   "outputs": [
    {
     "name": "stdout",
     "output_type": "stream",
     "text": [
      "The best k-fold value is: 10\n"
     ]
    }
   ],
   "source": [
    "from sklearn.model_selection import cross_val_score\n",
    "\n",
    "# Define the range of k-fold values you want to tune\n",
    "k_values = [3, 5, 7, 10]\n",
    "\n",
    "# Create an empty list to store the mean accuracy scores\n",
    "mean_accuracy_scores = []\n",
    "\n",
    "# Create the KNN classifier\n",
    "knn_classifier = KNeighborsClassifier()  # Use the best n_neighbors value from previous tuning\n",
    "\n",
    "# Iterate through the k-fold values\n",
    "for k in k_values:\n",
    "    # Perform cross-validation with k-fold\n",
    "    scores = cross_val_score(knn_classifier, X_train_resampled, y_train_resampled, cv=k, scoring='accuracy')\n",
    "    mean_accuracy = scores.mean()\n",
    "    mean_accuracy_scores.append(mean_accuracy)\n",
    "\n",
    "# Find the best k-fold value\n",
    "best_k_fold_index = mean_accuracy_scores.index(max(mean_accuracy_scores))\n",
    "best_k_fold = k_values[best_k_fold_index]\n",
    "\n",
    "# Print the best k-fold value\n",
    "print(f\"The best k-fold value is: {best_k_fold}\")"
   ]
  },
  {
   "cell_type": "markdown",
   "id": "2cd9e955",
   "metadata": {},
   "source": [
    "The result signifies that, among the considered options, a K-fold value of 10 yielded the highest mean accuracy score during the cross-validation process. This outcome indicates that when the training data was split into ten equal subsets, and the KNN classifier was trained and validated ten times with a different subset as the validation set each time, the model demonstrated the highest overall performance in terms of accuracy. In essence, choosing a K-fold value of 10 implies that the model was found to be most reliable and robust when evaluated against various subsets of the training data during the cross-validation phase, making it a suitable choice for subsequent model training and assessment."
   ]
  },
  {
   "cell_type": "markdown",
   "id": "caa146c9",
   "metadata": {},
   "source": [
    "## Model 1: Decision Tree"
   ]
  },
  {
   "cell_type": "markdown",
   "id": "675f13d0",
   "metadata": {},
   "source": [
    "**Method**:\n",
    ">* **Tuning Criterion**: Start by initializing a Decision Tree classifier and defining a hyperparameter grid for the 'criterion' to search over. Perform a grid search using cross-validation to find the best 'criterion' for the Decision Tree model.\n",
    ">* **Tuning Max Depth**: Initialize another Decision Tree classifier and define a hyperparameter grid for 'max_depth.' Conduct a grid search with cross-validation to determine the best 'max_depth' for the Decision Tree model.\n",
    ">* **Model Training**: Create a final Decision Tree classifier with the best 'criterion' and 'max_depth' values obtained from the previous steps. Train this classifier on the resampled training data.\n",
    ">* **Model Evaluation**: After training, make predictions on the test data and calculate various performance metrics, including accuracy, precision, recall, and F1-score."
   ]
  },
  {
   "cell_type": "markdown",
   "id": "6309e59f",
   "metadata": {},
   "source": [
    "### Tuning criterion"
   ]
  },
  {
   "cell_type": "code",
   "execution_count": 14,
   "id": "41e7f3d0",
   "metadata": {},
   "outputs": [
    {
     "name": "stdout",
     "output_type": "stream",
     "text": [
      "Best Criterion: entropy\n"
     ]
    }
   ],
   "source": [
    "# Initialize your Decision Tree classifier\n",
    "classifier = DecisionTreeClassifier(random_state=42)\n",
    "\n",
    "# Define the hyperparameter grid to search over\n",
    "param_grid = {\n",
    "    'criterion': ['gini', 'entropy', 'gaussian', 'deviance']  \n",
    "}\n",
    "\n",
    "# Create a GridSearchCV object with your classifier and hyperparameter grid\n",
    "grid_search = GridSearchCV(classifier, param_grid, cv=10)\n",
    "\n",
    "# Train the classifier on the resampled training data\n",
    "grid_search.fit(X_train_resampled, y_train_resampled) \n",
    "\n",
    "# Get the best criterion found by GridSearch\n",
    "best_criterion = grid_search.best_params_['criterion']\n",
    "print(\"Best Criterion:\", best_criterion)"
   ]
  },
  {
   "cell_type": "markdown",
   "id": "59b244ab",
   "metadata": {},
   "source": [
    "### Tuning max_depth"
   ]
  },
  {
   "cell_type": "code",
   "execution_count": 15,
   "id": "a8528963",
   "metadata": {},
   "outputs": [
    {
     "name": "stdout",
     "output_type": "stream",
     "text": [
      "Best Max Depth: None\n"
     ]
    }
   ],
   "source": [
    "# Initialize your Decision Tree classifier\n",
    "classifier = DecisionTreeClassifier(random_state=42)\n",
    "\n",
    "# Define the hyperparameter grid\n",
    "param_grid = {\n",
    "    'max_depth': [3, 5, 7, 9, None]  \n",
    "}\n",
    "\n",
    "# Create a GridSearchCV object with your classifier and hyperparameter grid\n",
    "grid_search = GridSearchCV(classifier, param_grid, cv=10, scoring='accuracy')\n",
    "\n",
    "# Fit the GridSearchCV object to your training data\n",
    "grid_search.fit(X_train_resampled, y_train_resampled)\n",
    "\n",
    "# Get the best max_depth found by GridSearch\n",
    "best_max_depth = grid_search.best_params_['max_depth']\n",
    "\n",
    "# Print the best max_depth\n",
    "print(\"Best Max Depth:\", best_max_depth)"
   ]
  },
  {
   "cell_type": "code",
   "execution_count": 16,
   "id": "4a23d76e",
   "metadata": {
    "scrolled": true
   },
   "outputs": [
    {
     "name": "stdout",
     "output_type": "stream",
     "text": [
      "\n",
      "Accuracy: 0.98\n",
      "Precision: 0.98\n",
      "Recall: 0.98\n",
      "F1 Score: 0.98\n"
     ]
    }
   ],
   "source": [
    "# Initialize your Decision Tree classifier\n",
    "classifier = DecisionTreeClassifier(criterion = best_criterion, max_depth = best_max_depth, random_state=42)\n",
    "\n",
    "# Train the classifier on the resampled training data\n",
    "classifier.fit(X_train_resampled, y_train_resampled)\n",
    "\n",
    "# Make predictions on the test data\n",
    "y_pred = classifier.predict(X_test)\n",
    "\n",
    "# Calculate accuracy, precision, and F1-score\n",
    "accuracy = accuracy_score(y_test, y_pred)\n",
    "precision = precision_score(y_test, y_pred, average='weighted')  #can choose 'micro', 'macro', 'weighted', or 'samples'\n",
    "recall = recall_score(y_test, y_pred, average='weighted')\n",
    "f1 = f1_score(y_test, y_pred, average='weighted')  #can choose 'micro', 'macro', 'weighted', or 'samples'\n",
    "\n",
    "# Print the formatted values with two decimal places\n",
    "print(f\"\\nAccuracy: {accuracy:.2f}\")\n",
    "print(f\"Precision: {precision:.2f}\")\n",
    "print(f\"Recall: {recall:.2f}\")\n",
    "print(f\"F1 Score: {f1:.2f}\")"
   ]
  },
  {
   "cell_type": "markdown",
   "id": "84a12fcb",
   "metadata": {},
   "source": [
    "The Decision Tree model, after hyperparameter tuning, revealed that 'entropy' was the optimal criterion for splitting nodes in the tree, and allowing the tree to grow without a maximum depth ('None') yielded the best results. Consequently, when trained and evaluated on the resampled dataset, the model exhibited exceptional performance with an accuracy, precision, recall, and F1 Score all around 0.98. This signifies that the Decision Tree model is highly effective in categorizing FIFA21 players into their OVA categories, providing a robust classification solution."
   ]
  },
  {
   "cell_type": "markdown",
   "id": "2160562b",
   "metadata": {},
   "source": [
    "### Comparison of Manual and GridSearch for Hyperparameter Tuning"
   ]
  },
  {
   "cell_type": "markdown",
   "id": "d60d5e62",
   "metadata": {},
   "source": [
    "In the Decision Tree model, manual hyperparameter tuning involved selecting the splitting criterion (entropy or Gini) and the maximum depth of the tree. Gridsearch hyperparameter tuning, on the other hand, systematically explored various combinations of hyperparameters using cross-validation. The manual tuning allowed us to make informed choices based on domain knowledge or heuristics, which resulted in selecting 'entropy' as the criterion and leaving 'max_depth' as 'None.' Gridsearch, while comprehensive, could potentially be more time-consuming as it explores a wider parameter space. However, in this case, both methods produced similar results, with 'entropy' and 'max_depth' as 'None' consistently yielding the best performance. The manual tuning method was faster due to its simplicity and domain-specific insights, making it a preferred choice when domain knowledge suggests specific hyperparameters that are likely to perform well."
   ]
  },
  {
   "cell_type": "markdown",
   "id": "1b7e73d3",
   "metadata": {},
   "source": [
    "## Model 2: K-Nearest Neighbors (KNN) "
   ]
  },
  {
   "cell_type": "markdown",
   "id": "21c227e1",
   "metadata": {},
   "source": [
    "**Method**:\n",
    ">* **Scaling Data**: Scale the resampled training data and the test data using StandardScaler. This ensures that all features have the same scale and helps to improve the performance of the KNN model.\n",
    ">* **Tuning K-Values**: Define a range of 'n_neighbors' values and perform a grid search with cross-validation to find the best 'n_neighbors' value for the KNN classifier.\n",
    ">* **Tuning Distance**: Create another grid search to optimize the distance metric used by the KNN classifier. This grid search explores options like 'euclidean,' 'manhattan,' 'cosine,' and 'jaccard' distances.\n",
    ">* **Tuning Weights**: Perform one more grid search to determine the best 'weights' option for the KNN classifier, which can be either 'uniform' or 'distance.'\n",
    ">* **Model Training**: Create the final KNN classifier with the best 'n_neighbors,' 'metric,' and 'weights' values obtained from the previous steps. Train this classifier on the scaled and resampled training data.\n",
    ">* **Model Evaluation**: After training, make predictions on the scaled test data and calculate various performance metrics, including accuracy, precision, recall, and F1-score."
   ]
  },
  {
   "cell_type": "markdown",
   "id": "8b830b51",
   "metadata": {},
   "source": [
    "### Scaling"
   ]
  },
  {
   "cell_type": "code",
   "execution_count": 17,
   "id": "2014550f",
   "metadata": {},
   "outputs": [],
   "source": [
    "# Import StandardScaler\n",
    "from sklearn.preprocessing import StandardScaler \n",
    "# Initialize StandardScaler\n",
    "scaler = StandardScaler()\n",
    "\n",
    "# Fit and transform the scaler on the resampled training data\n",
    "X_train_resampled_scaled = scaler.fit_transform(X_train_resampled)\n",
    "\n",
    "# Transform the test data using the same scaler\n",
    "X_test_scaled = scaler.transform(X_test)"
   ]
  },
  {
   "cell_type": "markdown",
   "id": "6b53685d",
   "metadata": {},
   "source": [
    "### Tuning K-Values"
   ]
  },
  {
   "cell_type": "code",
   "execution_count": 18,
   "id": "7258c826",
   "metadata": {},
   "outputs": [
    {
     "name": "stdout",
     "output_type": "stream",
     "text": [
      "The best n_neighbors value is: 5\n"
     ]
    }
   ],
   "source": [
    "# Define the range of n_neighbors values you want to tune\n",
    "n_neighbors_values = [3, 5, 7, 9, 11]\n",
    "\n",
    "# Create a parameter grid with the n_neighbors values\n",
    "param_grid = {'n_neighbors': n_neighbors_values}\n",
    "\n",
    "# Create the KNN classifier\n",
    "knn_classifier = KNeighborsClassifier()\n",
    "\n",
    "# Initialize GridSearchCV\n",
    "grid_search = GridSearchCV(estimator=knn_classifier, param_grid=param_grid, cv=10, scoring='accuracy')\n",
    "\n",
    "# Fit the grid search to your data\n",
    "grid_search.fit(X_train_resampled_scaled, y_train_resampled)\n",
    "\n",
    "# Get the best n_neighbors value\n",
    "best_n_neighbors = grid_search.best_params_['n_neighbors']\n",
    "\n",
    "# Print the best n_neighbors value\n",
    "print(f\"The best n_neighbors value is: {best_n_neighbors}\")"
   ]
  },
  {
   "cell_type": "markdown",
   "id": "f668702b",
   "metadata": {},
   "source": [
    "### Tuning Distance"
   ]
  },
  {
   "cell_type": "code",
   "execution_count": 19,
   "id": "62deed98",
   "metadata": {},
   "outputs": [
    {
     "name": "stdout",
     "output_type": "stream",
     "text": [
      "The best metric is: manhattan\n"
     ]
    }
   ],
   "source": [
    "# Create a parameter grid with the metric options\n",
    "param_grid = {'metric': ['euclidean', 'manhattan', 'cosine', 'jaccard']}\n",
    "\n",
    "# Create the KNN classifier\n",
    "knn_classifier = KNeighborsClassifier()\n",
    "\n",
    "# Initialize GridSearchCV\n",
    "grid_search = GridSearchCV(estimator=knn_classifier, param_grid=param_grid, cv=10, scoring='accuracy')\n",
    "\n",
    "# Fit the grid search to your data\n",
    "grid_search.fit(X_train_resampled_scaled, y_train_resampled)\n",
    "\n",
    "\n",
    "# Get the best metric\n",
    "best_metric = grid_search.best_params_['metric']\n",
    "\n",
    "# Print the best metric\n",
    "print(f\"The best metric is: {best_metric}\")"
   ]
  },
  {
   "cell_type": "markdown",
   "id": "d07524b6",
   "metadata": {},
   "source": [
    "### Tuning Weights"
   ]
  },
  {
   "cell_type": "code",
   "execution_count": 20,
   "id": "06e90aa9",
   "metadata": {},
   "outputs": [
    {
     "name": "stdout",
     "output_type": "stream",
     "text": [
      "The best 'weights' option is: distance\n"
     ]
    }
   ],
   "source": [
    "# Define the range of 'weights' options\n",
    "weight_options = ['uniform', 'distance']\n",
    "\n",
    "# Create a parameter grid with the 'weights' options\n",
    "param_grid = {'weights': weight_options}\n",
    "\n",
    "# Create the KNN classifier\n",
    "knn_classifier = KNeighborsClassifier()\n",
    "\n",
    "# Initialize GridSearchCV\n",
    "grid_search = GridSearchCV(estimator=knn_classifier, param_grid=param_grid, cv=10, scoring='accuracy')\n",
    "\n",
    "# Fit the grid search to your data\n",
    "grid_search.fit(X_train_resampled_scaled, y_train_resampled)\n",
    "\n",
    "\n",
    "# Get the best 'weights' option\n",
    "best_weights = grid_search.best_params_['weights']\n",
    "\n",
    "# Print the best 'weights' option\n",
    "print(f\"The best 'weights' option is: {best_weights}\")"
   ]
  },
  {
   "cell_type": "code",
   "execution_count": 21,
   "id": "3237f2c6",
   "metadata": {},
   "outputs": [
    {
     "name": "stdout",
     "output_type": "stream",
     "text": [
      "\n",
      "Accuracy: 0.86\n",
      "Precision: 0.87\n",
      "Recall: 0.86\n",
      "F1 Score: 0.86\n"
     ]
    }
   ],
   "source": [
    "# Initialize your KNN classifier\n",
    "knn_classifier = KNeighborsClassifier(n_neighbors=best_n_neighbors, weights=best_weights,\n",
    "                                      metric=best_metric)\n",
    "\n",
    "# Train the KNN classifier on the resampled and scaled training data\n",
    "knn_classifier.fit(X_train_resampled_scaled, y_train_resampled)\n",
    "\n",
    "# Make predictions on the scaled test data\n",
    "y_pred = knn_classifier.predict(X_test_scaled)\n",
    "\n",
    "# Calculate accuracy, precision, and F1-score\n",
    "accuracy = accuracy_score(y_test, y_pred)\n",
    "precision = precision_score(y_test, y_pred, average='weighted')  # You can choose 'micro', 'macro', 'weighted', or 'samples'\n",
    "recall = recall_score(y_test, y_pred, average='weighted')\n",
    "f1 = f1_score(y_test, y_pred, average='weighted')  # You can choose 'micro', 'macro', 'weighted', or 'samples'\n",
    "\n",
    "# Print the formatted values with two decimal places\n",
    "print(f\"\\nAccuracy: {accuracy:.2f}\")\n",
    "print(f\"Precision: {precision:.2f}\")\n",
    "print(f\"Recall: {recall:.2f}\")\n",
    "print(f\"F1 Score: {f1:.2f}\")"
   ]
  },
  {
   "cell_type": "markdown",
   "id": "81d8828d",
   "metadata": {},
   "source": [
    "The KNN model, after thorough hyperparameter tuning, identified the best configuration as having 5 nearest neighbors, utilizing the 'manhattan' distance metric, and applying 'distance' weighting. While still performing well with an accuracy of 0.86, the KNN model slightly lagged behind the Decision Tree model in terms of performance. Nonetheless, it remains a viable choice for classification, particularly when interpretability is a priority, and the trade-off between performance and simplicity is considered."
   ]
  },
  {
   "cell_type": "markdown",
   "id": "9cdc77fe",
   "metadata": {},
   "source": [
    "### Comparison of Manual and GridSearch for Hyperparameter Tuning"
   ]
  },
  {
   "cell_type": "markdown",
   "id": "8c507811",
   "metadata": {},
   "source": [
    "For the KNN model, manual hyperparameter tuning involved choosing the number of neighbors ('n_neighbors'), the distance metric, and the weighting strategy. Gridsearch hyperparameter tuning systematically explored these hyperparameters using cross-validation. The manual tuning allowed us to make initial selections based on intuition and knowledge, such as choosing 'manhattan' distance and 'distance' weighting. Gridsearch, however, explored a broader range of options. In this case, gridsearch proved to be the fastest method as it efficiently identified the best hyperparameter combinations. It is because KNN's hyperparameters interacted in a complex way, and gridsearch efficiently navigated this complex search space, leading to improved results over manual tuning. Therefore, for KNN, gridsearch is justified as the faster and more effective method."
   ]
  },
  {
   "cell_type": "markdown",
   "id": "bb26f279",
   "metadata": {},
   "source": [
    "## Model 3: Gaussian Naive Bayes"
   ]
  },
  {
   "cell_type": "markdown",
   "id": "6f699310",
   "metadata": {},
   "source": [
    "**Method**:\n",
    ">* **Scaling Data**: Scale the resampled training data and the test data using StandardScaler to ensure consistent feature scaling.\n",
    ">* **Tuning Priors**: Define a range of possible prior values and create a parameter grid with different combinations of priors. Use grid search with cross-validation to find the best set of priors for the Gaussian Naive Bayes classifier.\n",
    ">* **Model Training**: Initialize the Gaussian Naive Bayes classifier with the best priors obtained from the grid search. Train this classifier on the scaled and resampled training data.\n",
    ">* **Model Evaluation**: After training, make predictions on the scaled test data and calculate various performance metrics, including accuracy, precision, recall, and F1-score."
   ]
  },
  {
   "cell_type": "code",
   "execution_count": 22,
   "id": "565b8213",
   "metadata": {},
   "outputs": [
    {
     "name": "stdout",
     "output_type": "stream",
     "text": [
      "The Best Priors: (0.37, 0.13, 0.5)\n"
     ]
    }
   ],
   "source": [
    "# Define possible prior values\n",
    "priors_range = np.linspace(0, 1, 101)\n",
    "\n",
    "# Create a parameter grid with different combinations of priors\n",
    "param_grid = {'priors': [(p1, p2, 1 - p1 - p2) for p1 in priors_range for p2 in priors_range]}\n",
    "\n",
    "# Create the Gaussian Naive Bayes classifier\n",
    "nb_classifier = GaussianNB()\n",
    "\n",
    "# Perform grid search using GridSearchCV\n",
    "grid_search = GridSearchCV(estimator=nb_classifier, param_grid=param_grid, scoring='accuracy', cv=10)\n",
    "grid_search.fit(X_train_resampled_scaled, y_train_resampled)\n",
    "\n",
    "# Get the best priors from the tuned classifier\n",
    "best_priors = grid_search.best_params_['priors']\n",
    "\n",
    "print('The Best Priors:', best_priors)"
   ]
  },
  {
   "cell_type": "code",
   "execution_count": 23,
   "id": "5a3a56f8",
   "metadata": {},
   "outputs": [
    {
     "name": "stdout",
     "output_type": "stream",
     "text": [
      "\n",
      "Accuracy: 0.84\n",
      "Precision: 0.85\n",
      "Recall: 0.84\n",
      "F1 Score: 0.84\n"
     ]
    }
   ],
   "source": [
    "# Initialize your Gaussian Naive Bayes classifier\n",
    "nb_classifier = GaussianNB(priors=best_priors)\n",
    "\n",
    "# Train the classifier on the resampled and scaled training data\n",
    "nb_classifier.fit(X_train_resampled_scaled, y_train_resampled)\n",
    "\n",
    "# Make predictions on the scaled test data\n",
    "y_pred = nb_classifier.predict(X_test_scaled)\n",
    "\n",
    "# Calculate accuracy, precision, and F1-score\n",
    "accuracy = accuracy_score(y_test, y_pred)\n",
    "precision = precision_score(y_test, y_pred, average='weighted')  #can choose 'micro', 'macro', 'weighted', or 'samples'\n",
    "recall = recall_score(y_test, y_pred, average='weighted')\n",
    "f1 = f1_score(y_test, y_pred, average='weighted')  #can choose 'micro', 'macro', 'weighted', or 'samples'\n",
    "\n",
    "# Print the formatted values with two decimal places\n",
    "print(f\"\\nAccuracy: {accuracy:.2f}\")\n",
    "print(f\"Precision: {precision:.2f}\")\n",
    "print(f\"Recall: {recall:.2f}\")\n",
    "print(f\"F1 Score: {f1:.2f}\")"
   ]
  },
  {
   "cell_type": "markdown",
   "id": "e9fd1c9e",
   "metadata": {},
   "source": [
    "In the Gaussian Naive Bayes model, the grid search for hyperparameter tuning resulted in the selection of prior probabilities as (0.37, 0.13, 0.5). When trained and evaluated on the scaled and resampled dataset, the Gaussian Naive Bayes classifier achieved an accuracy of 0.84, with a precision of 0.85, recall, and F1 Score of 0.84. These results indicate that the Gaussian Naive Bayes model performs well in categorizing FIFA21 players into their OVA categories, offering a probabilistic approach to classification that may be beneficial in specific scenarios, particularly when transparency and interpretability are essential considerations."
   ]
  },
  {
   "cell_type": "markdown",
   "id": "c64e947f",
   "metadata": {},
   "source": [
    "### Comparison of Manual and GridSearch for Hyperparameter Tuning"
   ]
  },
  {
   "cell_type": "markdown",
   "id": "d81e1a2d",
   "metadata": {},
   "source": [
    "In the Gaussian Naive Bayes model, manual hyperparameter tuning involved setting custom priors for class probabilities, while gridsearch explored different prior combinations systematically. Manual tuning allowed us to incorporate prior knowledge or beliefs about class probabilities, which, in some cases, can be beneficial. However, in this specific dataset, the custom priors did not substantially improve performance. Gridsearch, while more exhaustive, efficiently explored various prior combinations, ultimately selecting the best set of priors. In this instance, gridsearch proved to be the fastest method, considering its comprehensive search across prior values. Therefore, for Gaussian Naive Bayes, gridsearch is justified as the faster and more effective method, especially when the impact of custom priors is uncertain."
   ]
  },
  {
   "cell_type": "markdown",
   "id": "2364eed0",
   "metadata": {},
   "source": [
    "## Conclusion"
   ]
  },
  {
   "cell_type": "markdown",
   "id": "f6c22a61",
   "metadata": {},
   "source": [
    "In summary, the choice between manual and gridsearch hyperparameter tuning depends on the complexity of the model and the potential impact of domain-specific insights. While manual tuning offers speed and the advantage of domain knowledge, gridsearch is justified when dealing with complex models or when the impact of hyperparameters is uncertain. In the case of the Decision Tree model, manual tuning sufficed due to its simplicity, while for KNN and Gaussian Naive Bayes, gridsearch proved to be faster and more effective method due to their complex hyperparameter interactions and the need for a comprehensive search."
   ]
  }
 ],
 "metadata": {
  "kernelspec": {
   "display_name": "Python 3 (ipykernel)",
   "language": "python",
   "name": "python3"
  },
  "language_info": {
   "codemirror_mode": {
    "name": "ipython",
    "version": 3
   },
   "file_extension": ".py",
   "mimetype": "text/x-python",
   "name": "python",
   "nbconvert_exporter": "python",
   "pygments_lexer": "ipython3",
   "version": "3.10.9"
  }
 },
 "nbformat": 4,
 "nbformat_minor": 5
}
